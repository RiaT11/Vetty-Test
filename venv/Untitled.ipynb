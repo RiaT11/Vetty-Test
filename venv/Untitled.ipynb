{
 "cells": [
  {
   "cell_type": "code",
   "execution_count": null,
   "id": "7dbfd959",
   "metadata": {},
   "outputs": [],
   "source": [
    "!pip install Flask==2.0.1\n"
   ]
  },
  {
   "cell_type": "code",
   "execution_count": null,
   "id": "9d6274d5",
   "metadata": {},
   "outputs": [],
   "source": [
    "!pip install -r requirements.txt\n"
   ]
  },
  {
   "cell_type": "code",
   "execution_count": null,
   "id": "4bfb677c",
   "metadata": {},
   "outputs": [],
   "source": [
    "%%writefile app.py\n",
    "from flask import Flask, render_template, request\n",
    "\n",
    "app = Flask(__name__)\n",
    "\n",
    "@app.route('/')\n",
    "def index():\n",
    "    return 'Hello, World!'\n",
    "\n",
    "if __name__ == '__main__':\n",
    "    app.run(debug=True)\n"
   ]
  },
  {
   "cell_type": "code",
   "execution_count": null,
   "id": "d762e0b4",
   "metadata": {},
   "outputs": [],
   "source": [
    "\n",
    "file_display_html_content = \"\"\"\n",
    "<!DOCTYPE html>\n",
    "<html lang=\"en\">\n",
    "<head>\n",
    "    <meta charset=\"UTF-8\">\n",
    "    <meta name=\"viewport\" content=\"width=device-width, initial-scale=1.0\">\n",
    "    <title>File Display</title>\n",
    "</head>\n",
    "<body>\n",
    "    <pre>{{ content }}</pre>\n",
    "</body>\n",
    "</html>\n",
    "\"\"\"\n",
    "\n",
    "\n",
    "error_html_content = \"\"\"\n",
    "<!DOCTYPE html>\n",
    "<html lang=\"en\">\n",
    "<head>\n",
    "    <meta charset=\"UTF-8\">\n",
    "    <meta name=\"viewport\" content=\"width=device-width, initial-scale=1.0\">\n",
    "    <title>Error</title>\n",
    "</head>\n",
    "<body>\n",
    "    <h1>Error Occurred</h1>\n",
    "    <p>{{ error }}</p>\n",
    "</body>\n",
    "</html>\n",
    "\"\"\"\n",
    "\n",
    "\n",
    "templates_directory = \"templates\"\n",
    "!mkdir -p {templates_directory}\n",
    "\n",
    "\n",
    "file_display_html_path = f\"{templates_directory}/file_display.html\"\n",
    "error_html_path = f\"{templates_directory}/error.html\"\n",
    "\n",
    "\n",
    "with open(file_display_html_path, \"w\") as file:\n",
    "    file.write(file_display_html_content)\n",
    "\n",
    "\n",
    "with open(error_html_path, \"w\") as file:\n",
    "    file.write(error_html_content)\n",
    "\n",
    "\n",
    "print(f\"Files '{file_display_html_path}' and '{error_html_path}' have been created.\")\n"
   ]
  },
  {
   "cell_type": "code",
   "execution_count": null,
   "id": "4740c495",
   "metadata": {
    "scrolled": true
   },
   "outputs": [],
   "source": [
    "%run app.py\n"
   ]
  },
  {
   "cell_type": "code",
   "execution_count": null,
   "id": "345cf40a",
   "metadata": {},
   "outputs": [],
   "source": []
  },
  {
   "cell_type": "code",
   "execution_count": null,
   "id": "7efd852b",
   "metadata": {},
   "outputs": [],
   "source": []
  }
 ],
 "metadata": {
  "kernelspec": {
   "display_name": "Python 3 (ipykernel)",
   "language": "python",
   "name": "python3"
  },
  "language_info": {
   "codemirror_mode": {
    "name": "ipython",
    "version": 3
   },
   "file_extension": ".py",
   "mimetype": "text/x-python",
   "name": "python",
   "nbconvert_exporter": "python",
   "pygments_lexer": "ipython3",
   "version": "3.9.13"
  }
 },
 "nbformat": 4,
 "nbformat_minor": 5
}
